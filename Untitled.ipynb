{
 "cells": [
  {
   "cell_type": "code",
   "execution_count": null,
   "id": "252e1094-79e4-44da-95de-791db29b8eed",
   "metadata": {},
   "outputs": [],
   "source": [
    "# Keras ve TensorFlow kütüphanelerinden gerekli modüller ve fonksiyonlar\n",
    "from keras._tf_keras.keras.utils import to_categorical # Kategorik verileri dönüştürmek için kullanılır\n",
    "from keras._tf_keras.keras.preprocessing.image import load_img, ImageDataGenerator # Resim yükleme ve veri artırma işlemleri için kullanılır\n",
    "from keras._tf_keras.keras.models import Sequential, model_from_json # Model oluşturma ve JSON formatında modeli yükleme işlemleri için kullanılır\n",
    "from keras._tf_keras.keras.layers import Dense, Conv2D, Dropout, Flatten, MaxPooling2D, Input # Sinir ağı katmanları için gerekli modüller\n",
    "from keras._tf_keras.keras.metrics import Accuracy, Recall, Precision, F1Score # Modelin değerlendirme metrikleri\n",
    "from keras._tf_keras.keras.optimizers import Adam # Optimizasyon algoritması olarak Adam kullanılır\n",
    "\n",
    "# Pandas, NumPy ve Matplotlib kütüphaneleri\n",
    "import pandas as pd # Veri işleme ve analiz için kullanılır\n",
    "import numpy as np # Sayısal hesaplamalar ve veri manipülasyonu için kullanılır\n",
    "import matplotlib.pyplot as plt # Grafik ve görselleştirme işlemleri için kullanılır\n",
    "\n",
    "# OS ve SYS modülleri\n",
    "import os # Dosya ve dizin işlemleri için kullanılır\n",
    "import sys # Python ortamı ve sistem işlemleri için kullanılır\n",
    "\n",
    "# PIL kütüphanesi\n",
    "from PIL import Image # Görüntü işleme işlemleri için kullanılır\n",
    "\n",
    "# Sklearn kütüphanesinden LabelEncoder\n",
    "from sklearn.preprocessing import LabelEncoder # Etiket verilerini dönüştürmek için kullanılır\n"
   ]
  },
  {
   "cell_type": "code",
   "execution_count": null,
   "id": "4e37bb12-dc43-4f78-90d4-711a17e544c1",
   "metadata": {},
   "outputs": [],
   "source": [
    "# Eğitim verilerinin bulunduğu dizin yolu\n",
    "EGITIM_DIR = 'images/train'\n",
    "\n",
    "# Test verilerinin bulunduğu dizin yolu\n",
    "TEST_DIR = 'images/test'\n"
   ]
  },
  {
   "cell_type": "code",
   "execution_count": null,
   "id": "f6c4039e-daf3-4fc8-9699-a5d05a8287ec",
   "metadata": {},
   "outputs": [],
   "source": [
    "def veri_cercevesi(dir):\n",
    "    # Resim dosya yolları ve etiketler için boş listeler oluştur\n",
    "    resim_yollari = []\n",
    "    etiketler = []\n",
    "\n",
    "    #Dizin içerisindeki her bir etiket için\n",
    "    for etiket in os.listdir(dir):\n",
    "        #Her bir resim dosyası için\n",
    "        for resim_adi in os.listdir(os.path.join(dir,etiket)):\n",
    "            # Resim dosyasının tam yolunu oluştur ve listeye ekle\n",
    "            resim_yollari.append(os.path.join(dir,etiket,resim_adi))\n",
    "            # İlgili etiketi listeye ekle\n",
    "            etiketler.append(etiket)\n",
    "        # İşlemi tamamlanan etiketi yazdır\n",
    "        print(etiket, \" Tamamlandı!\")\n",
    "    # Resim dosya yolları ve etiketler listelerini döndür\n",
    "    return resim_yollari,etiketler"
   ]
  },
  {
   "cell_type": "code",
   "execution_count": null,
   "id": "dcff5d36",
   "metadata": {},
   "outputs": [],
   "source": [
    "# Boş bir DataFrame oluştur\n",
    "train = pd.DataFrame()\n",
    "\n",
    "# Eğitim dizinindeki resim dosyalarının yollarını ve etiketlerini alarak DataFrame'e ekle\n",
    "train['resim'], train['etiket'] = veri_cercevesi(EGITIM_DIR)\n",
    "\n",
    "# 'resim' sütunu: Resim dosyalarının tam yollarını içerir\n",
    "# 'etiket' sütunu: Resim dosyalarının etiketlerini (klasör isimlerini) içerir"
   ]
  },
  {
   "cell_type": "code",
   "execution_count": null,
   "id": "8eb75e95",
   "metadata": {},
   "outputs": [],
   "source": [
    "#Eğitim DataFrame bilgilerini yazdır\n",
    "print(train)\n",
    "print(train['resim'])"
   ]
  },
  {
   "cell_type": "code",
   "execution_count": null,
   "id": "6cb62522",
   "metadata": {},
   "outputs": [],
   "source": [
    "# Boş bir DataFrame oluştur\n",
    "test = pd.DataFrame()\n",
    "\n",
    "# Test dizinindeki resim dosyalarının yollarını ve etiketlerini alarak DataFrame'e ekle\n",
    "test['resim'], test['etiket'] = veri_cercevesi(TEST_DIR)\n",
    "\n",
    "# 'resim' sütunu: Resim dosyalarının tam yollarını içerir\n",
    "# 'etiket' sütunu: Resim dosyalarının etiketlerini (klasör isimlerini) içerir"
   ]
  },
  {
   "cell_type": "code",
   "execution_count": null,
   "id": "4d479975",
   "metadata": {},
   "outputs": [],
   "source": [
    "#Test DataFrame bilgilerini yazdır\n",
    "print(test)\n",
    "print(test['resim'])"
   ]
  },
  {
   "cell_type": "code",
   "execution_count": null,
   "id": "1491e0fe",
   "metadata": {},
   "outputs": [],
   "source": [
    "from tqdm.notebook import tqdm # tqdm kütüphanesinden tqdm modülünü notebook ortamında kullanmak için gerekli import işlemi"
   ]
  },
  {
   "cell_type": "code",
   "execution_count": null,
   "id": "fed4f1a8",
   "metadata": {},
   "outputs": [],
   "source": [
    "import sys\n",
    "from PIL import Image\n",
    "\n",
    "# PIL modülünü 'Resim' adı altında sys.modules sözlüğüne ekler\n",
    "sys.modules['Resim'] = Image "
   ]
  },
  {
   "cell_type": "code",
   "execution_count": null,
   "id": "c7b78261",
   "metadata": {},
   "outputs": [],
   "source": [
    "def ozellikleri_cikar(resimler):\n",
    "    # Özellikleri saklamak için boş bir liste oluştur\n",
    "    ozellikler = []\n",
    "    \n",
    "    # Her bir resim için ilerleme çubuğunu göster\n",
    "    for resim in tqdm(resimler):\n",
    "        # Resmi yükle ve gri tonlamalı olarak al\n",
    "        yuklenen_resim = load_img(resim, color_mode=\"grayscale\")\n",
    "        # Resmi numpy dizisine çevir\n",
    "        yuklenen_resim = np.array(yuklenen_resim)\n",
    "        # Özellikler listesine ekle\n",
    "        ozellikler.append(yuklenen_resim)\n",
    "    \n",
    "    # Özellikleri numpy dizisine çevir\n",
    "    ozellikler = np.array(ozellikler)\n",
    "    # Özellikleri istenen şekle dönüştür (örneğin: (adet, 48, 48, 1))\n",
    "    ozellikler = ozellikler.reshape(len(ozellikler), 48, 48, 1)\n",
    "    \n",
    "    # Özellikleri döndür\n",
    "    return ozellikler"
   ]
  },
  {
   "cell_type": "code",
   "execution_count": null,
   "id": "a87ad669",
   "metadata": {},
   "outputs": [],
   "source": [
    "# Eğitim verilerinin özelliklerini çıkar ve x_train değişkenine atar\n",
    "x_train = ozellikleri_cikar(train['resim'])\n",
    "\n",
    "# train['resim'] veri çerçevesindeki resim dosyalarının yollarını içerir\n",
    "# ozellikleri_cikar fonksiyonu bu resimlerin özelliklerini (piksel değerlerini) çıkarır ve x_train değişkenine atar\n"
   ]
  },
  {
   "cell_type": "code",
   "execution_count": null,
   "id": "682b36a8",
   "metadata": {},
   "outputs": [],
   "source": [
    "# Test verilerinin özelliklerini çıkar ve x_test değişkenine atar\n",
    "x_test = ozellikleri_cikar(test['resim'])\n",
    "\n",
    "# test['resim'] veri çerçevesindeki resim dosyalarının yollarını içerir\n",
    "# ozellikleri_cikar fonksiyonu bu resimlerin özelliklerini (piksel değerlerini) çıkarır ve x_test değişkenine atar\n"
   ]
  },
  {
   "cell_type": "code",
   "execution_count": null,
   "id": "d6ed1c78",
   "metadata": {},
   "outputs": [],
   "source": [
    "# LabelEncoder nesnesi oluştur\n",
    "le = LabelEncoder()\n",
    "\n",
    "# LabelEncoder'ı kullanarak etiket sütunundaki kategorik değerleri sayısal değerlere dönüştür\n",
    "le.fit(train['etiket'])\n",
    "\n",
    "# 'etiket' sütunundaki kategorik değerlerin (klasör isimlerinin) sayısal değerlere dönüştürülmesi\n"
   ]
  },
  {
   "cell_type": "code",
   "execution_count": null,
   "id": "72a41f53",
   "metadata": {},
   "outputs": [],
   "source": [
    "# Eğitim verilerinin etiketlerini sayısal değerlere dönüştürme\n",
    "y_train = le.transform(train['etiket'])\n",
    "\n",
    "# Test verilerinin etiketlerini sayısal değerlere dönüştürme\n",
    "y_test = le.transform(test['etiket'])\n",
    "\n",
    "# 'etiket' sütunundaki kategorik değerlerin (klasör isimlerinin) sayısal değerlere dönüştürülmesi\n",
    "\n"
   ]
  },
  {
   "cell_type": "code",
   "execution_count": null,
   "id": "1eec2e5e",
   "metadata": {},
   "outputs": [],
   "source": [
    "# Eğitim verilerinin etiketlerini kategorik (one-hot encoding) şekilde kodlama\n",
    "y_train = to_categorical(y_train, num_classes=4)\n",
    "\n",
    "# Test verilerinin etiketlerini kategorik (one-hot encoding) şekilde kodlama\n",
    "y_test = to_categorical(y_test, num_classes=4)\n",
    "\n",
    "# Etiketleri kategorik (one-hot encoding) şekilde kodlama işlemi\n"
   ]
  },
  {
   "cell_type": "code",
   "execution_count": null,
   "id": "c9ac7759",
   "metadata": {},
   "outputs": [],
   "source": [
    "# Veri Boyutlarını Anlaşılır Şekilde Yazdırma\n",
    "print(\"Eğitim Verisi Sayısı:\", len(x_train))  # Eğitim verilerinin sayısını yazdırma\n",
    "print(\"Eğitim Verisi Boyutu:\", x_train[0].shape)  # Bir eğitim verisinin boyutunu yazdırma\n",
    "print(\"Eğitim Verisi Örnek Boyutu (Piksel):\", x_train[0].shape[0], \"x\", x_train[0].shape[1])  # Bir eğitim verisinin piksel boyutunu yazdırma\n",
    "\n",
    "print(\"Test Verisi Sayısı:\", len(x_test))  # Test verilerinin sayısını yazdırma\n",
    "print(\"Test Verisi Boyutu:\", x_test[0].shape)  # Bir test verisinin boyutunu yazdırma\n",
    "print(\"Test Verisi Örnek Boyutu (Piksel):\", x_test[0].shape[0], \"x\", x_test[0].shape[1])  # Bir test verisinin piksel boyutunu yazdırma\n",
    "\n",
    "\n"
   ]
  },
  {
   "cell_type": "code",
   "execution_count": null,
   "id": "230ed69b",
   "metadata": {},
   "outputs": [],
   "source": [
    "import random\n",
    "\n",
    "# Rastgele 10 indeks seçme\n",
    "random_indexes = random.sample(range(len(x_train)), 10)\n",
    "\n",
    "# 10 rastgele görüntüyü görselleştirme\n",
    "plt.figure(figsize=(12, 6))\n",
    "for i, idx in enumerate(random_indexes):\n",
    "    plt.subplot(2, 5, i + 1)\n",
    "    plt.imshow(x_train[idx].reshape(48, 48), cmap='gray')\n",
    "    plt.title(f\"Görüntü {i+1}\")\n",
    "    plt.axis('off')\n",
    "plt.tight_layout()\n",
    "plt.show()"
   ]
  },
  {
   "cell_type": "code",
   "execution_count": null,
   "id": "5cb399a7",
   "metadata": {},
   "outputs": [],
   "source": [
    "# Eğitim verilerini normalleştirme: 0 ile 1 arasında değerlere dönüştürme\n",
    "x_train = x_train / 255.0\n",
    "\n",
    "# Test verilerini normalleştirme: 0 ile 1 arasında değerlere dönüştürme\n",
    "x_test = x_test / 255.0\n"
   ]
  },
  {
   "cell_type": "code",
   "execution_count": null,
   "id": "0a3f3802",
   "metadata": {},
   "outputs": [],
   "source": [
    "# Yapay Sinir Ağı Modeli Oluşturma\n",
    "model = Sequential()\n",
    "\n",
    "# Giriş Veri Şekli Belirleme (48x48 piksel boyutunda, tek kanallı - siyah beyaz)\n",
    "input_shape = (48, 48, 1)\n",
    "\n",
    "# Giriş Katmanı Ekleme\n",
    "model.add(Input(shape=input_shape))\n",
    "\n",
    "# 1. Evrişimli Katman: Görüntülerdeki temel özellikleri öğrenmek için kullanılır\n",
    "model.add(Conv2D(128, kernel_size=(3, 3), activation='relu'))\n",
    "model.add(MaxPooling2D(pool_size=(2, 2)))  # Veriyi örnekleyerek boyutu küçültür\n",
    "model.add(Dropout(0.4))  # Overfitting'i önlemek için rastgele düşme (dropout)\n",
    "\n",
    "# 2. Evrişimli Katman: Daha karmaşık özellikleri öğrenmek için kullanılır\n",
    "model.add(Conv2D(256, kernel_size=(3, 3), activation='relu'))\n",
    "model.add(MaxPooling2D(pool_size=(2, 2)))\n",
    "model.add(Dropout(0.4))\n",
    "\n",
    "# 3. Evrişimli Katman: Derinlik arttırarak özelliklerin daha fazla incelenmesini sağlar\n",
    "model.add(Conv2D(512, kernel_size=(3, 3), activation='relu'))\n",
    "model.add(MaxPooling2D(pool_size=(2, 2)))\n",
    "model.add(Dropout(0.4))\n",
    "\n",
    "# 4. Evrişimli Katman: Modelin karmaşıklığını artırarak daha yüksek seviyeli özellikleri öğrenir\n",
    "model.add(Conv2D(512, kernel_size=(3, 3), activation='relu'))\n",
    "model.add(MaxPooling2D(pool_size=(2, 2)))\n",
    "model.add(Dropout(0.4))\n",
    "\n",
    "# Düzleştirme Katmanı: Evrişimli katmanların çıktılarını düzleştirerek tam bağlantılı katmanlara geçiş sağlar\n",
    "model.add(Flatten())\n",
    "\n",
    "# Tam Bağlantılı Katmanlar: Öğrenilen özellikleri sınıflandırma için kullanır\n",
    "model.add(Dense(512, activation='relu'))  # 512 nöronlu gizli katman\n",
    "model.add(Dropout(0.4))  # Düşme (dropout) ile overfitting'i kontrol altında tutar\n",
    "model.add(Dense(256, activation='relu'))  # 256 nöronlu ikinci gizli katman\n",
    "model.add(Dropout(0.3))\n",
    "\n",
    "# Çıkış Katmanı: Modelin sınıflandırma yapabilmesi için çıkışı belirler (4 sınıf için softmax aktivasyonu)\n",
    "model.add(Dense(4, activation='softmax'))  # 4 sınıf için softmax aktivasyonu kullanılır\n",
    "\n"
   ]
  },
  {
   "cell_type": "code",
   "execution_count": null,
   "id": "e0fbf114",
   "metadata": {},
   "outputs": [],
   "source": [
    "# Modeli Derleme (Compile) Etme\n",
    "model.compile(\n",
    "    optimizer='Adam',  # Optimizasyon algoritması olarak Adam'ı kullanır.\n",
    "    loss='categorical_crossentropy',  # Kayıp fonksiyonu olarak categorical_crossentropy kullanır. Çok sınıflı sınıflandırma problemleri için uygun bir kayıp fonksiyonudur.\n",
    "    metrics=['accuracy', 'recall', 'precision', 'f1_score']  # Metrikler olarak accuracy, recall, precision ve f1_score kullanır. Birden fazla metric kullanılması modelin değerlendirilebilmesi açısından daha sağlıklı olur.\n",
    ")\n"
   ]
  },
  {
   "cell_type": "code",
   "execution_count": null,
   "id": "6228e423",
   "metadata": {},
   "outputs": [],
   "source": [
    "# Modelin Eğitimi\n",
    "history = model.fit(\n",
    "    x=x_train,  # Eğitim verileri\n",
    "    y=y_train,  # Eğitim etiketleri\n",
    "    batch_size=128,  # Mini-batch boyutu (her iterasyonda işlenecek örnek sayısı)\n",
    "    epochs=20,  # Eğitim epoch sayısı (kaç kez tüm veriler model tarafından kullanılacak)\n",
    "    validation_data=(x_test, y_test)  # Modelin doğruluğunu değerlendirmek için kullanılan doğrulama verileri\n",
    ")\n",
    "\n",
    "# Modelin eğitimine başlamak için x_train, y_train verilerini kullanır. Her iterasyonda 128 örnek işlenir ve toplamda 50 epoch boyunca eğitilir. Modelin doğruluğunu değerlendirmek için x_test, y_test verilerini kullanır.\n"
   ]
  },
  {
   "cell_type": "code",
   "execution_count": null,
   "id": "198a9eb7",
   "metadata": {},
   "outputs": [],
   "source": [
    "#Model mimarisini gösteren tablo\n",
    "model.summary()"
   ]
  },
  {
   "cell_type": "code",
   "execution_count": null,
   "id": "18ebcdb3",
   "metadata": {},
   "outputs": [],
   "source": [
    "# Sınıf etiketlerinin adlandırılması (örneğin: 0 - 'Kızgın', 1 - 'Mutlu', 2 - 'Nötr', 3 - 'Üzgün')\n",
    "etiket = ['Kızgın','Mutlu','Nötr','Üzgün']"
   ]
  },
  {
   "cell_type": "code",
   "execution_count": null,
   "id": "77d8bb5b",
   "metadata": {},
   "outputs": [],
   "source": [
    "def ozellik_cik(resim):\n",
    "    # Resmi yükler ve gri tonlamalı olarak okur\n",
    "    yuklenen_resim = load_img(resim, color_mode=\"grayscale\")\n",
    "    \n",
    "    # Resmi NumPy dizisine dönüştürür\n",
    "    ozellik = np.array(yuklenen_resim)\n",
    "    \n",
    "    # Resmi modelin beklediği şekle getirir (1, 48, 48, 1)\n",
    "    # 1: Örnek sayısı, 48x48: Resim boyutu, 1: Kanal sayısı (gri tonlamalı)\n",
    "    ozellik = ozellik.reshape(1, 48, 48, 1)\n",
    "    \n",
    "    # Resim verilerini normalleştirir (0-255 aralığındaki piksel değerlerini 0-1 aralığına getirir)\n",
    "    return ozellik / 255"
   ]
  },
  {
   "cell_type": "code",
   "execution_count": null,
   "id": "11d01cbc",
   "metadata": {},
   "outputs": [],
   "source": [
    "#Değerlendirme\n",
    "egitim_dogruluk = model.evaluate(x= x_train,y = y_train)\n",
    "test_dogruluk = model.evaluate(x= x_test, y= y_test)\n",
    "print('Eğitim: %.3f, Test: %.3f' % (egitim_dogruluk, test_dogruluk))"
   ]
  },
  {
   "cell_type": "code",
   "execution_count": null,
   "metadata": {},
   "outputs": [],
   "source": [
    "#Doğruluk Grafiği\n",
    "plt.figure(figsize=(8, 5))\n",
    "plt.plot(history.history['accuracy'], label='Eğitim Doğruluğu', linestyle='-')\n",
    "plt.plot(history.history['val_accuracy'], label='Değerlendirme Doğruluğu', linestyle='--')\n",
    "plt.title('Epochlara Göre Doğruluk Değişimi')\n",
    "plt.xlabel('Epochlar')\n",
    "plt.ylabel('Doğruluk')\n",
    "plt.legend()\n",
    "plt.grid(True)\n",
    "plt.tight_layout()\n",
    "plt.show()\n"
   ]
  },
  {
   "cell_type": "code",
   "execution_count": null,
   "metadata": {},
   "outputs": [],
   "source": [
    "#Kayıp Grafiği\n",
    "plt.figure(figsize=(8, 5))\n",
    "plt.plot(history.history['loss'], label='Eğitim Kaybı', linestyle='-')\n",
    "plt.plot(history.history['val_loss'], label='Değerlendirme Kaybı', linestyle='--')\n",
    "plt.title('Epochlara Göre Kayıp Değişimi')\n",
    "plt.xlabel('Epochlar')\n",
    "plt.ylabel('Kayıp')\n",
    "plt.legend()\n",
    "plt.grid(True)\n",
    "plt.tight_layout()\n",
    "plt.show()\n"
   ]
  },
  {
   "cell_type": "code",
   "execution_count": null,
   "metadata": {},
   "outputs": [],
   "source": [
    "#F1 Skoru Grafiği\n",
    "plt.figure(figsize=(8, 5))\n",
    "plt.plot(history.history['f1_score'], label='Eğitim F1 Skoru', linestyle='-')\n",
    "plt.plot(history.history['val_f1_score'], label='Değerlendirme F1 Skoru', linestyle='--')\n",
    "plt.title('Epochlara Göre F1 Skoru Değişimi')\n",
    "plt.xlabel('Epochlar')\n",
    "plt.ylabel('F1 Skoru')\n",
    "plt.legend()\n",
    "plt.grid(True)\n",
    "plt.tight_layout()\n",
    "plt.show()\n"
   ]
  },
  {
   "cell_type": "code",
   "execution_count": null,
   "metadata": {},
   "outputs": [],
   "source": [
    "#Duyarlılık Grafiği\n",
    "plt.figure(figsize=(8, 5))\n",
    "plt.plot(history.history['recall'], label='Eğitim Duyarlılığı', linestyle='-')\n",
    "plt.plot(history.history['val_recall'], label='Değerlendirme Duyarlılığı', linestyle='--')\n",
    "plt.title('Epochlara Göre Duyarlılık Değişimi')\n",
    "plt.xlabel('Epochlar')\n",
    "plt.ylabel('Duyarlılık')\n",
    "plt.legend()\n",
    "plt.grid(True)\n",
    "plt.tight_layout()\n",
    "plt.show()\n"
   ]
  },
  {
   "cell_type": "code",
   "execution_count": null,
   "metadata": {},
   "outputs": [],
   "source": [
    "#Kesinlik Grafiği\n",
    "plt.figure(figsize=(8, 5))\n",
    "plt.plot(history.history['precision'], label='Eğitim Kesinliği', linestyle='-')\n",
    "plt.plot(history.history['val_precision'], label='Değerlendirme Kesinliği', linestyle='--')\n",
    "plt.title('Epochlara Göre Kesinlik Değişimi')\n",
    "plt.xlabel('Epochlar')\n",
    "plt.ylabel('Kesinlik')\n",
    "plt.legend()\n",
    "plt.grid(True)\n",
    "plt.tight_layout()\n",
    "plt.show()"
   ]
  },
  {
   "cell_type": "code",
   "execution_count": null,
   "metadata": {},
   "outputs": [],
   "source": [
    "\n",
    "from random import sample\n",
    "\n",
    "# Test verisinden rastgele 20 örnek seçme\n",
    "sample_say = 20\n",
    "rastgele_indexler = sample(range(len(x_test)), sample_say)\n",
    "x_sample = x_test[rastgele_indexler]\n",
    "y_gercek_sample = y_test[rastgele_indexler]\n",
    "\n",
    "# Modelin tahminlerini alma\n",
    "y_tahmin_sample = model.predict(x_sample)\n",
    "y_tahmin_siniflari = np.argmax(y_tahmin_sample, axis=1)\n",
    "y_gercek_siniflari = np.argmax(y_gercek_sample, axis=1)\n",
    "\n",
    "\n",
    "# Görselleri ve etiketleri görselleştirme\n",
    "plt.figure(figsize=(15, 15))\n",
    "for i in range(sample_say):\n",
    "    plt.subplot(4, 5, i + 1)\n",
    "    plt.imshow(x_sample[i].reshape(48, 48), cmap='gray')\n",
    "    plt.title(f\"Gerçek: {etiket[y_gercek_siniflari[i]]}\\nTahmin: {etiket[y_tahmin_siniflari[i]]}\")\n",
    "    plt.axis('off')\n",
    "plt.tight_layout()\n",
    "plt.show()"
   ]
  }
 ],
 "metadata": {
  "kernelspec": {
   "display_name": "Python 3 (ipykernel)",
   "language": "python",
   "name": "python3"
  },
  "language_info": {
   "codemirror_mode": {
    "name": "ipython",
    "version": 3
   },
   "file_extension": ".py",
   "mimetype": "text/x-python",
   "name": "python",
   "nbconvert_exporter": "python",
   "pygments_lexer": "ipython3",
   "version": "3.12.3"
  }
 },
 "nbformat": 4,
 "nbformat_minor": 5
}
